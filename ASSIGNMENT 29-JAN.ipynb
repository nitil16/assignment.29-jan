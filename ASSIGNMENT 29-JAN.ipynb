{
 "cells": [
  {
   "cell_type": "markdown",
   "id": "00a9a7b3-f086-451a-a895-700e5a093eb9",
   "metadata": {},
   "source": [
    "                                             ASSIGNMENT 29-JAN"
   ]
  },
  {
   "cell_type": "markdown",
   "id": "bd4b2410-ade9-4358-8a21-48c2988e9ed0",
   "metadata": {},
   "source": [
    "QUESTION.1"
   ]
  },
  {
   "cell_type": "markdown",
   "id": "d79a55e1-c95b-423f-8450-f9c22ce40153",
   "metadata": {},
   "source": [
    "Q1. Who developed Python Programming Language ?"
   ]
  },
  {
   "cell_type": "markdown",
   "id": "9aec4c9a-eff5-41ca-ab25-ffc887e8aa4c",
   "metadata": {},
   "source": [
    "Ans. Python programming language was developed by Guido van Rossum in the late 1980s, and its first public release was in 1991. Guido van Rossum named it after the British comedy group Monty Python. "
   ]
  },
  {
   "cell_type": "markdown",
   "id": "ef893841-fcc1-4fb6-964b-0e763bd67a34",
   "metadata": {},
   "source": [
    "QUESTION.2"
   ]
  },
  {
   "cell_type": "markdown",
   "id": "b010984c-5e90-4645-93a6-91aa07978c9e",
   "metadata": {},
   "source": [
    "Q2. Which type of programming does Python support ?\n"
   ]
  },
  {
   "cell_type": "markdown",
   "id": "ce17c6b4-5932-44e4-a19b-953fdfc03976",
   "metadata": {},
   "source": [
    "Ans. Python supports multiple programming paradigms, including object-oriented, functional, procedural, and aspect-oriented programming.\n",
    "This makes it a versatile language that can be used for a variety of tasks, from web development to scientific computing, machine learning, and data analysis.\n",
    "It also has a simple and easy-to-learn syntax, making it an ideal language for beginners to start with."
   ]
  },
  {
   "cell_type": "markdown",
   "id": "456f22ac-9770-4652-ae48-a2b06fb3bf75",
   "metadata": {},
   "source": [
    "QUESTION.3"
   ]
  },
  {
   "cell_type": "markdown",
   "id": "dc292a65-6b86-45b4-84f4-ef0d6294fa70",
   "metadata": {},
   "source": [
    "Q3. Is python case sensitive when dealing with identifiers ?"
   ]
  },
  {
   "cell_type": "markdown",
   "id": "a3f62cb8-f858-415e-801f-7d1a3c1f3f2f",
   "metadata": {},
   "source": [
    "Ans. Yes, Python is case-sensitive when dealing with identifiers. This means that uppercase and lowercase letters are considered different in Python.\n",
    "\n",
    "For example, the variable names \"my_variable\" and \"My_Variable\" would be considered two different variables in Python.\n",
    "It's important to be consistent with our naming conventions to avoid errors when working with identifiers in Python. '''"
   ]
  },
  {
   "cell_type": "markdown",
   "id": "66918ed8-d9a1-4072-a270-6210eb37fc32",
   "metadata": {},
   "source": [
    "QUESTION.4"
   ]
  },
  {
   "cell_type": "markdown",
   "id": "d82f83e2-f5b3-4917-850e-d3dc07ed84f6",
   "metadata": {},
   "source": [
    "Q4. What is the correct extension of the Python file ?"
   ]
  },
  {
   "cell_type": "markdown",
   "id": "b7f0dc11-94f3-4e5f-9204-749fa8898c69",
   "metadata": {},
   "source": [
    "Ans. The correct extension of a Python file is \".py\". When we save a Python script or program, we should give it a name and save it with the \".py\" extension.\n",
    "\n",
    "For example, if we have a Python script called \"my_script\", then we should save it as \"my_script.py\". This extension helps to identify the file as a Python script and allows the Python interpreter to recognize and execute it properly."
   ]
  },
  {
   "cell_type": "markdown",
   "id": "af6ba7c7-f6d1-426f-bacd-0babac129de8",
   "metadata": {},
   "source": [
    "QUESTION.5"
   ]
  },
  {
   "cell_type": "markdown",
   "id": "8d3c2d48-a9db-4e92-be65-7294f664ddea",
   "metadata": {},
   "source": [
    "Q5. Is Python Code compiled or Interpreted ?"
   ]
  },
  {
   "cell_type": "markdown",
   "id": "9abfcd71-d7d4-45f6-acd5-9c73e0eec633",
   "metadata": {},
   "source": [
    "Ans. Python code is interpreted, which means that the source code is executed directly by the Python interpreter without being compiled into machine code beforehand. When we run a Python program, the interpreter reads the code line by line and executes each line as it goes. This makes the development process faster because we don't need to compile our code before running it.\n",
    "However, this also means that Python can be slower than compiled languages like C++ for certain types of tasks. To address this issue, there are tools like PyPy and Numba that can speed up certain parts of Python code by using just-in-time (JIT) compilation or other techniques. '''"
   ]
  },
  {
   "cell_type": "markdown",
   "id": "6b155a01-8611-47b6-999a-505759495487",
   "metadata": {},
   "source": [
    "QUESTION.6"
   ]
  },
  {
   "cell_type": "markdown",
   "id": "30a5032b-a564-4704-bc30-af3d617632b7",
   "metadata": {},
   "source": [
    "Q6. Name few blocks of code used to define in Python language ?"
   ]
  },
  {
   "cell_type": "markdown",
   "id": "14957e56-5616-4f87-9e19-f7eb750d2c38",
   "metadata": {},
   "source": [
    "Ans. In Python, code blocks are defined using indentation rather than braces or other delimiters. The following are some of"
   ]
  },
  {
   "cell_type": "markdown",
   "id": "622db5f4-4cbc-415d-97dd-292865f03c1f",
   "metadata": {},
   "source": [
    "QUESTION.7"
   ]
  },
  {
   "cell_type": "markdown",
   "id": "c33e2194-5cbf-4096-b774-2d7f71bc6b6c",
   "metadata": {},
   "source": [
    "Q7. State a character used to give single-line comments in Python ?"
   ]
  },
  {
   "cell_type": "markdown",
   "id": "620879ef-180e-4f5d-ab80-a69a0fdfe9ca",
   "metadata": {},
   "source": [
    " Ans. In Python, the ,character is used to give single-line comments. Any text that appears after the # symbol on a line is considered a comment and is ignored by the Python interpreter.\n",
    "\n",
    "For example:\n",
    "I have used single line comment in this question statement.\n",
    "\n",
    "Single-line comments are useful for providing context and explanations for our code, as well as temporarily disabling or commenting out lines of code for testing or debugging purposes."
   ]
  },
  {
   "cell_type": "markdown",
   "id": "a5dd6eb9-b12c-4d15-99ad-61ba36653d9b",
   "metadata": {},
   "source": [
    "QUESTION.8"
   ]
  },
  {
   "cell_type": "markdown",
   "id": "2d0532cb-bf27-4cba-a2ef-e3b192705b9c",
   "metadata": {},
   "source": [
    "Q8.  Mention functions which can help us to find the version of python that we are currently working on ?"
   ]
  },
  {
   "cell_type": "markdown",
   "id": "3bd2dc16-1f64-4729-91da-a733fb5b26be",
   "metadata": {},
   "source": [
    "Ans. In Python, there are several ways to find the version of the Python interpreter that we are currently working on. Below are a few examples of functions that can help us to accomplish this:\n",
    "\n",
    "1. sys.version - This function returns a string containing the version number of the Python interpreter, as well as additional information about the build.\n",
    "We can use it like this:\n",
    "\n",
    "import sys\n",
    "print(sys.version)\n",
    "Output:\n",
    "3.10.9 | packaged by Anaconda, Inc. | (main, Mar  1 2023, 18:18:15) [MSC v.1916 64 bit (AMD64)]\n",
    "\n",
    "2. platform.python_version() - This function returns a string containing the version number of the Python interpreter, without any additional information.\n",
    "We can use it like this:\n",
    "\n",
    "import platform\n",
    "print(platform.python_version())\n",
    "Output:\n",
    "3.10.9\n",
    "\n",
    "3. sys.version_info - This function returns a tuple containing detailed information about the version of the Python interpreter, including the major and minor version numbers, as well as the micro and release level numbers.\n",
    " We can use it like this:\n",
    "\n",
    "import sys\n",
    "print(sys.version_info)\n",
    "Output:\n",
    "sys.version_info(major=3, minor=10, micro=9, releaselevel='final', serial=0)\n",
    "\n",
    "These are just a few examples of functions that can help us find the version of Python that we are currently working on."
   ]
  },
  {
   "cell_type": "markdown",
   "id": "b3167476-575a-4cad-974c-83b07230ebb0",
   "metadata": {},
   "source": [
    "QUESTION.9"
   ]
  },
  {
   "cell_type": "markdown",
   "id": "ab62b68c-94f9-4b0b-a447-bedf536afa80",
   "metadata": {},
   "source": [
    "Q9.  Python supports the creation of anonymous functions at runtime, using a construct called __________"
   ]
  },
  {
   "cell_type": "markdown",
   "id": "39625277-b1d9-4ab6-8ce1-969eb0d44e66",
   "metadata": {},
   "source": [
    "Ans. Python supports the creation of anonymous functions at runtime, using a construct called \"lambda\" or \"lambda function\". The lambda function is a small, anonymous function that can have any number of arguments, but can only have one expression. It is defined using the lambda keyword, followed by the function's arguments and the expression to be evaluated. Below is an example of a lambda function that takes two arguments and returns their sum:\n",
    "\n",
    "add = lambda x, y: x + y\n",
    "result = add(3, 4)\n",
    "print(result)\n",
    "Output: 7\n",
    "\n",
    "Lambda functions are commonly used as arguments to higher-order functions like map(), filter(), and reduce(). They can also be used as a quick way to define simple functions without giving them a name."
   ]
  },
  {
   "cell_type": "markdown",
   "id": "cb8869e4-c514-4b61-ac6b-7e8752c7e08b",
   "metadata": {},
   "source": [
    "QUESTION.10"
   ]
  },
  {
   "cell_type": "markdown",
   "id": "9e3f6bfe-6f5b-4d4b-ac02-b3a8383f6997",
   "metadata": {},
   "source": [
    "Q10. What does pip stand for python ?"
   ]
  },
  {
   "cell_type": "markdown",
   "id": "a854b78b-8ac3-4fbe-8b46-13a920777349",
   "metadata": {},
   "source": [
    "Ans. In Python, pip stands for \"Pip Installs Packages\" or \"Pip Installs Python\". It is a package manager that is used to install and manage software packages (also known as \"libraries\" or \"modules\") written in Python. pip is included with most Python installations, and is used to download and install packages from the Python Package Index (PyPI) and other sources.\n",
    "Using pip, we can install, upgrade, and remove Python packages, as well as list installed packages and their dependencies.\n",
    "\n",
    "For example, to install the popular NumPy package using pip, we can use the following command:\n",
    "pip install numpy\n",
    "\n",
    "This will download and install the latest version of NumPy and its dependencies. We can then import NumPy in our Python code and use its functions and classes. '''"
   ]
  },
  {
   "cell_type": "markdown",
   "id": "21373f40-1c3f-4eb3-bf85-6be5fc0d0603",
   "metadata": {},
   "source": [
    "QUESTION.11"
   ]
  },
  {
   "cell_type": "markdown",
   "id": "298f14a1-f661-48d3-b75b-a780ac095d2e",
   "metadata": {},
   "source": [
    "Q11. Mention a few built-in functions in python ?"
   ]
  },
  {
   "cell_type": "markdown",
   "id": "15bde50d-989a-4f4c-9983-1dfeefa2727b",
   "metadata": {},
   "source": [
    "Ans. Python provides a large number of built-in functions that are always available to use in any Python program.\n",
    "Below are a few examples of some commonly used built-in functions in Python :\n",
    "\n",
    "1. print() - This function is used to print output to the console or terminal. It can be used to print text strings, numbers, variables, and more.\n",
    "For example:\n",
    "print(\"Hello Mentor ! \\n Nice to meet you Sir ^.^ \")\n",
    "\n",
    "2. len() - This function is used to get the length of a string, list, tuple, or other iterable object.\n",
    "For example:\n",
    "my_list = [1, 2, 3, 4, 5]\n",
    "print(len(my_list))\n",
    "# Output : 5\n",
    "\n",
    "3. input() - This function is used to get input from the user via the console or terminal. It can be used to prompt the user for text or numerical input.\n",
    "For example:\n",
    "name = input(\"What is your name : ?\")\n",
    "print(\"Hello, \" + name + \"!\")\n",
    "\n",
    "4. type() - This function is used to get the type of an object in Python. It can be used to check the type of a variable or value.\n",
    "For example:\n",
    "x = 5\n",
    "print(type(x))\n",
    "# Output : <class 'int'>\n",
    "\n",
    "5. range() - This function is used to generate a range of numbers, which can be used in for loops or other iterations.\n",
    "For example:\n",
    "for i in range(1, 6):\n",
    "    print(i)\n",
    "# Output:\n",
    "1\n",
    "2\n",
    "3\n",
    "4\n",
    "5\n",
    "\n",
    "These are just a few examples of the many built-in functions available in Python. "
   ]
  },
  {
   "cell_type": "markdown",
   "id": "cd3e26cc-3a37-4553-af5f-90b249a0c60c",
   "metadata": {},
   "source": [
    "QUESTION.12"
   ]
  },
  {
   "cell_type": "markdown",
   "id": "01f9dfbd-0ca7-49d5-8785-35a554c523b5",
   "metadata": {},
   "source": [
    "Q12. What is the maximum possible length of an identifier in Python ?"
   ]
  },
  {
   "cell_type": "markdown",
   "id": "ddf0597f-6d70-4641-977d-d9b646698914",
   "metadata": {},
   "source": [
    "Ans. In Python, the maximum possible length of an identifier (i.e., a variable name, function name, etc.) is technically unlimited. However, it is generally recommended to keep identifier names reasonably short and descriptive, to make the code more readable and easier to understand.\n",
    "\n",
    "According to the official Python documentation, an identifier can be any length and can consist of letters (uppercase and lowercase), digits, and underscores (_). However, it must begin with a letter or underscore, and it cannot be a reserved keyword (such as if, while, def, etc.) or a built-in function or module name (such as print, str, list, etc.).\n",
    "\n",
    "Below is an example of a valid Python identifier with a long name:\n",
    "this_is_a_very_long_and_descriptive_variable_name = 16\n",
    "type(this_is_a_very_long_and_descriptive_variable_name)\n",
    "# Output : int\n",
    "\n",
    "However, using such a long identifier can make the code harder to read and write, so it is generally recommended to keep identifiers shorter and more concise, while still being descriptive enough to convey their meaning. '''"
   ]
  },
  {
   "cell_type": "code",
   "execution_count": null,
   "id": "88e8b556-4dca-4724-ae56-cae510628d35",
   "metadata": {},
   "outputs": [],
   "source": []
  }
 ],
 "metadata": {
  "kernelspec": {
   "display_name": "Python 3 (ipykernel)",
   "language": "python",
   "name": "python3"
  },
  "language_info": {
   "codemirror_mode": {
    "name": "ipython",
    "version": 3
   },
   "file_extension": ".py",
   "mimetype": "text/x-python",
   "name": "python",
   "nbconvert_exporter": "python",
   "pygments_lexer": "ipython3",
   "version": "3.10.8"
  }
 },
 "nbformat": 4,
 "nbformat_minor": 5
}
